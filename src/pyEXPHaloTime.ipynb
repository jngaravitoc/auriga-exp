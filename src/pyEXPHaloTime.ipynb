{
 "cells": [
  {
   "cell_type": "code",
   "execution_count": 1,
   "id": "e8ddcc18",
   "metadata": {},
   "outputs": [],
   "source": [
    "import numpy as np\n",
    "import scipy.stats as ss\n",
    "from numpy import Inf\n",
    "import matplotlib.pyplot as plt\n",
    "import matplotlib.pylab as pl\n",
    "import sys\n",
    "import pyEXP\n",
    "from schwimmbad import SerialPool,MultiPool\n",
    "##  exp\n",
    "#sys.path.append(\"/u/svarel/exp/build/utils/Analysis/\")\n",
    "from spherical_basis_builder import *\n",
    "#import simpleSL\n",
    "\n",
    "## Auriga\n",
    "import LibAu as la\n",
    "#import warnings\n",
    "#warnings.filterwarnings('ignore')"
   ]
  },
  {
   "cell_type": "code",
   "execution_count": 2,
   "id": "3f7a430b",
   "metadata": {},
   "outputs": [],
   "source": [
    "def EBF(R,basis):\n",
    "    lrmin = np.log10(np.nanmin(R))\n",
    "    lrmax = np.log10(np.nanmax(R))\n",
    "    rnum  = len(R) \n",
    "    basis_grid = basis.getBasis(lrmin, lrmax, rnum)\n",
    "\n",
    "\n",
    "    r = np.linspace(lrmin, lrmax, rnum)\n",
    "    r = np.power(10.0, r)\n",
    "\n",
    "\n",
    "    for l in range(6):\n",
    "        for n in range(10):\n",
    "            plt.semilogx(r, basis_grid[l][n], '-', label=\"n={}\".format(n))\n",
    "        plt.xlabel('r')\n",
    "        plt.ylabel('potential')\n",
    "        plt.title('l={}'.format(l))\n",
    "        plt.legend()\n",
    "        plt.show()"
   ]
  },
  {
   "cell_type": "code",
   "execution_count": 3,
   "id": "13dc65fb",
   "metadata": {
    "scrolled": false
   },
   "outputs": [
    {
     "name": "stdout",
     "output_type": "stream",
     "text": [
      "Au-16 snapshot 40\n"
     ]
    },
    {
     "name": "stderr",
     "output_type": "stream",
     "text": [
      "/u/svarel/.local/lib/python3.6/site-packages/cosmological_factors.py:100: RuntimeWarning: invalid value encountered in sqrt\n",
      "  var2 = np.sqrt(self.OmegaLambda / self.OmegaMatter * a**3.0)\n"
     ]
    },
    {
     "name": "stdout",
     "output_type": "stream",
     "text": [
      "! Scaling:  R= 193.13716406422787   M= 1.0\n",
      "0.9999999999999999 5.1918416250270035e-08 5.1918416250270035e-08 5.1918416250270035e-08\n",
      "Au-16 snapshot 63\n"
     ]
    },
    {
     "name": "stderr",
     "output_type": "stream",
     "text": [
      "/u/svarel/.local/lib/python3.6/site-packages/ipykernel_launcher.py:59: RuntimeWarning: divide by zero encountered in log10\n",
      "/u/svarel/.local/lib/python3.6/site-packages/cosmological_factors.py:100: RuntimeWarning: invalid value encountered in sqrt\n",
      "  var2 = np.sqrt(self.OmegaLambda / self.OmegaMatter * a**3.0)\n"
     ]
    },
    {
     "name": "stdout",
     "output_type": "stream",
     "text": [
      "! Scaling:  R= 575.9432091934026   M= 1.0\n",
      "1.0 3.298520049294974e-08 3.298520049294975e-08 3.298520049294975e-08\n"
     ]
    },
    {
     "name": "stderr",
     "output_type": "stream",
     "text": [
      "/u/svarel/.local/lib/python3.6/site-packages/ipykernel_launcher.py:59: RuntimeWarning: divide by zero encountered in log10\n"
     ]
    },
    {
     "data": {
      "image/png": "[encoded data removed]",
      "text/plain": [
       "<Figure size 576x432 with 1 Axes>"
      ]
     },
     "metadata": {
      "needs_background": "light"
     },
     "output_type": "display_data"
    }
   ],
   "source": [
    "nhalo = 16\n",
    "Lsnap = np.arange(39,64,1,dtype=int)\n",
    "colors = pl.cm.Blues(np.linspace(0,1,len(Lsnap)))[::-1]\n",
    "\n",
    "plt.figure(figsize=(8,6))\n",
    "RL,DL = [],[]\n",
    "Datapos = {}\n",
    "for ii,ns in enumerate(Lsnap):\n",
    "    if ns not in (63,40): continue\n",
    "    print('Au-%s snapshot %s'%(nhalo,ns))\n",
    "    \n",
    "    sim = la.Reader_Au(Nhalo=nhalo,Nsnap=ns)\n",
    "    #print(sim.base)\n",
    "    \n",
    "    header = sim.Header()\n",
    "    h=header['hubbleparam']\n",
    "    sc=header['time']\n",
    "    \n",
    "    Rvir =sim.sf.data['frc2'][0]*1000*sc/h #[kpc] \n",
    "    Mvir =sim.sf.data['fmc2'][0]*1e10/h    #[Msun]\n",
    "    \n",
    "    try:\n",
    "        fields_stars = ['pos','vel','id','mass','type','pot','age']\n",
    "        Datstars = sim.Snapshot_Subhalo(idSubhalo=0,snapType='stars',fields=fields_stars)\n",
    "    except KeyError:\n",
    "        fields_stars = ['pos','vel','id','mass','type','pot']\n",
    "        Datstars = sim.Snapshot_Subhalo(idSubhalo=0,snapType='stars',fields=fields_stars)\n",
    "\n",
    "    fields_dm = ['pos','vel','id','mass','type','pot']\n",
    "    DatDM = sim.Snapshot_Subhalo(idSubhalo=0,snapType='dm1',fields=fields_dm)\n",
    "    \n",
    "    #Rotate Halo---------------------------------------------------------------------\n",
    "    Data = {'stars':Datstars,'dm1':DatDM}\n",
    "    param = {'spos':sim.sf.data['spos'][0,:],'svel':sim.sf.data['svel'][0,:],'header':sim.Header()}\n",
    "    gal = la.ToolRot(Data=Data, param=param)\n",
    "    Data = gal.Centered()#gal.Rotate()\n",
    "\n",
    "    Datstars=Data['stars']\n",
    "    DatDM = Data['dm1']\n",
    "    #--------------------------------------------------------------------------------\n",
    "\n",
    "    potdm = np.float64(DatDM['pot'])\n",
    "    pos = np.float64(DatDM['pos']) #part_rot[not_in_subs]\n",
    "    mass = np.float64(np.ones_like(pos[:,0]))#DatDM['mass']  #part['dark']['mass'][not_in_subs]\n",
    "\n",
    "    poss,masss=Datstars['pos'],Datstars['mass']\n",
    "    #print(type(mass[0]))\n",
    "    \n",
    "    rr = np.sqrt((pos[:,0]**2) + (pos[:,1]**2) + (pos[:,2]**2))\n",
    "    \n",
    "    binrad = 200\n",
    "    \n",
    "    rrmin,rrmax=np.nanmin(np.log10(rr)),np.nanmax(np.log10(rr))\n",
    "    r,rho = return_density(np.log10(rr),weights= 1., rangevals=[rrmin, rrmax],bins=binrad)\n",
    "    \n",
    "    \n",
    "    R,D,M,P = makemodel_empirical(r, rho, \"Au{}_table.txt\".format(nhalo))\n",
    "    \n",
    "    plt.plot(R,np.log10(D),color=colors[ii],lw=1)#,zorder=ns)\n",
    "    RL.append(R)\n",
    "    DL.append(D)\n",
    "    if ns in (63,40):Datapos['Snap'+str(ns)]=pos\n",
    "plt.ylabel(r'$\\rm \\rho$',fontsize=14)\n",
    "plt.xlabel(r'r',fontsize=14)\n",
    "\n",
    "plt.show()\n",
    "RL,DL = np.array(RL),np.array(DL)"
   ]
  },
  {
   "cell_type": "code",
   "execution_count": 4,
   "id": "eb7e0ba9",
   "metadata": {},
   "outputs": [
    {
     "name": "stderr",
     "output_type": "stream",
     "text": [
      "/u/svarel/.local/lib/python3.6/site-packages/numpy/core/fromnumeric.py:3373: RuntimeWarning: Mean of empty slice.\n",
      "  out=out, **kwargs)\n",
      "/u/svarel/.local/lib/python3.6/site-packages/numpy/core/_methods.py:170: RuntimeWarning: invalid value encountered in double_scalars\n",
      "  ret = ret.dtype.type(ret / rcount)\n"
     ]
    }
   ],
   "source": [
    "Rbin = np.linspace(np.nanmin(RL),np.nanmax(RL),50)\n",
    "Rhomed = np.zeros_like(Rbin)\n",
    "for i,rb in enumerate(Rbin):\n",
    "    if rb==Rbin[-1]:continue\n",
    "    sel = (Rbin[i]<=RL)&(RL<Rbin[i+1])\n",
    "    Rhomed[i]= np.median(DL[sel])"
   ]
  },
  {
   "cell_type": "code",
   "execution_count": 5,
   "id": "b60ddef7",
   "metadata": {
    "scrolled": false
   },
   "outputs": [
    {
     "name": "stderr",
     "output_type": "stream",
     "text": [
      "/u/svarel/.local/lib/python3.6/site-packages/ipykernel_launcher.py:7: RuntimeWarning: divide by zero encountered in log10\n",
      "  import sys\n",
      "/u/svarel/.local/lib/python3.6/site-packages/ipykernel_launcher.py:7: RuntimeWarning: divide by zero encountered in log10\n",
      "  import sys\n"
     ]
    },
    {
     "data": {
      "image/png": "[encoded data removed]",
      "text/plain": [
       "<Figure size 576x432 with 1 Axes>"
      ]
     },
     "metadata": {
      "needs_background": "light"
     },
     "output_type": "display_data"
    }
   ],
   "source": [
    "colors = pl.cm.Reds(np.linspace(0,1,27))#[::-1]\n",
    "count=0\n",
    "plt.figure(figsize=(8,6))\n",
    "for kk,k_ in enumerate(zip(DL,RL)):\n",
    "    #print(kk)\n",
    "    d_,r_=k_\n",
    "    plt.plot(r_,np.log10(d_),color=colors[count],marker='.',lw=1,zorder=count)\n",
    "    count+=1\n",
    "plt.plot(Rbin[:-1],np.log10(Rhomed[:-1]),color='k',ls='--',lw=3,zorder=count+1)\n",
    "plt.ylabel(r'$\\rm \\rho$',fontsize=14)\n",
    "plt.xlabel(r'r',fontsize=14)\n",
    "\n",
    "plt.show()"
   ]
  },
  {
   "cell_type": "code",
   "execution_count": 6,
   "id": "b01f3eb5",
   "metadata": {},
   "outputs": [
    {
     "data": {
      "text/plain": [
       "array([[6.49028311e-03, 6.83508712e-03, 7.19820925e-03, 7.58062268e-03,\n",
       "        7.98335228e-03, 8.40747737e-03, 8.85413460e-03, 9.32452104e-03,\n",
       "        9.81989731e-03, 1.03415910e-02, 1.08910004e-02, 1.14695977e-02,\n",
       "        1.20789337e-02, 1.27206415e-02, 1.33964407e-02, 1.41081425e-02,\n",
       "        1.48576544e-02, 1.56469849e-02, 1.64782496e-02, 1.73536762e-02,\n",
       "        1.82756109e-02, 1.92465245e-02, 2.02690190e-02, 2.13458347e-02,\n",
       "        2.24798576e-02, 2.36741268e-02, 2.49318429e-02, 2.62563767e-02,\n",
       "        2.76512780e-02, 2.91202850e-02, 3.06673348e-02, 3.22965734e-02,\n",
       "        3.40123673e-02, 3.58193148e-02, 3.77222585e-02, 3.97262984e-02,\n",
       "        4.18368052e-02, 4.40594353e-02, 4.64001452e-02, 4.88652081e-02,\n",
       "        5.14612304e-02, 5.41951695e-02, 5.70743523e-02, 6.01064952e-02,\n",
       "        6.32997242e-02, 6.66625974e-02, 7.02041272e-02, 7.39338050e-02,\n",
       "        7.78616263e-02, 8.19981178e-02, 8.63543654e-02, 9.09420437e-02,\n",
       "        9.57734480e-02, 1.00861526e-01, 1.06219915e-01, 1.11862974e-01,\n",
       "        1.17805828e-01, 1.24064403e-01, 1.30655472e-01, 1.37596699e-01,\n",
       "        1.44906687e-01, 1.52605027e-01, 1.60712351e-01, 1.69250386e-01,\n",
       "        1.78242014e-01, 1.87711333e-01, 1.97683721e-01, 2.08185904e-01,\n",
       "        2.19246027e-01, 2.30893733e-01, 2.43160238e-01, 2.56078414e-01,\n",
       "        2.69682885e-01, 2.84010109e-01, 2.99098484e-01, 3.14988446e-01,\n",
       "        3.31722582e-01, 3.49345739e-01, 3.67905147e-01, 3.87450546e-01,\n",
       "        4.08034317e-01, 4.29711625e-01, 4.52540567e-01, 4.76582323e-01,\n",
       "        5.01901325e-01, 5.28565430e-01, 5.56646098e-01, 5.86218584e-01,\n",
       "        6.17362143e-01, 6.50160242e-01, 6.84700778e-01, 7.21076321e-01,\n",
       "        7.59384358e-01, 7.99727556e-01, 8.42214033e-01, 8.86957656e-01,\n",
       "        9.34078336e-01, 9.83702359e-01, 1.03596272e+00, 1.09099947e+00,\n",
       "        1.14896011e+00, 1.20999999e+00, 1.27428267e+00, 1.34198046e+00,\n",
       "        1.41327477e+00, 1.48835667e+00, 1.56742739e+00, 1.65069883e+00,\n",
       "        1.73839417e+00, 1.83074843e+00, 1.92800912e+00, 2.03043690e+00,\n",
       "        2.13830627e+00, 2.25190634e+00, 2.37154154e+00, 2.49753250e+00,\n",
       "        2.63021689e+00, 2.76995029e+00, 2.91710719e+00, 3.07208198e+00,\n",
       "        3.23528999e+00, 3.40716862e+00, 3.58817851e+00, 3.77880476e+00,\n",
       "        3.97955826e+00, 4.19097702e+00, 4.41362766e+00, 4.64810688e+00,\n",
       "        4.89504309e+00, 5.15509808e+00, 5.42896880e+00, 5.71738922e+00,\n",
       "        6.02113233e+00, 6.34101214e+00, 6.67788596e+00, 7.03265659e+00,\n",
       "        7.40627484e+00, 7.79974200e+00, 8.21411257e+00, 8.65049707e+00,\n",
       "        9.11006502e+00, 9.59404806e+00, 1.01037433e+01, 1.06405167e+01,\n",
       "        1.12058068e+01, 1.18011286e+01, 1.24280776e+01, 1.30883340e+01,\n",
       "        1.37836673e+01, 1.45159410e+01, 1.52871176e+01, 1.60992640e+01,\n",
       "        1.69545565e+01, 1.78552875e+01, 1.88038709e+01, 1.98028489e+01,\n",
       "        2.08548988e+01, 2.19628401e+01, 2.31296421e+01, 2.43584318e+01,\n",
       "        2.56525025e+01, 2.70153222e+01, 2.84505434e+01, 2.99620123e+01,\n",
       "        3.15537799e+01, 3.32301120e+01, 3.49955012e+01, 3.68546788e+01,\n",
       "        3.88126275e+01, 4.08745945e+01, 4.30461059e+01, 4.53329815e+01,\n",
       "        4.77413501e+01, 5.02776661e+01, 5.29487269e+01, 5.57616910e+01,\n",
       "        5.87240972e+01, 6.18438847e+01, 6.51294146e+01, 6.85894923e+01,\n",
       "        7.22333906e+01, 7.60708754e+01, 8.01122312e+01, 8.43682888e+01,\n",
       "        8.88504545e+01, 9.35707405e+01, 9.85417974e+01, 1.03776948e+02,\n",
       "        1.09290221e+02, 1.15096394e+02, 1.21211027e+02, 1.27650507e+02,\n",
       "        1.34432092e+02, 1.41573957e+02, 1.49095242e+02, 1.57016104e+02,\n",
       "        1.65357772e+02, 1.74142600e+02, 1.83394133e+02, 1.93137164e+02],\n",
       "       [1.73342220e-02, 1.82652380e-02, 1.92462587e-02, 2.02799696e-02,\n",
       "        2.13692008e-02, 2.25169344e-02, 2.37263124e-02, 2.50006457e-02,\n",
       "        2.63434231e-02, 2.77583206e-02, 2.92492120e-02, 3.08201786e-02,\n",
       "        3.24755214e-02, 3.42197722e-02, 3.60577062e-02, 3.79943550e-02,\n",
       "        4.00350208e-02, 4.21852901e-02, 4.44510497e-02, 4.68385026e-02,\n",
       "        4.93541849e-02, 5.20049838e-02, 5.47981563e-02, 5.77413493e-02,\n",
       "        6.08426203e-02, 6.41104597e-02, 6.75538138e-02, 7.11821095e-02,\n",
       "        7.50052798e-02, 7.90337915e-02, 8.32786734e-02, 8.77515467e-02,\n",
       "        9.24646566e-02, 9.74309064e-02, 1.02663892e-01, 1.08177940e-01,\n",
       "        1.13988145e-01, 1.20110415e-01, 1.26561511e-01, 1.33359092e-01,\n",
       "        1.40521770e-01, 1.48069154e-01, 1.56021905e-01, 1.64401796e-01,\n",
       "        1.73231768e-01, 1.82535996e-01, 1.92339951e-01, 2.02670474e-01,\n",
       "        2.13555846e-01, 2.25025868e-01, 2.37111942e-01, 2.49847155e-01,\n",
       "        2.63266373e-01, 2.77406333e-01, 2.92305746e-01, 3.08005403e-01,\n",
       "        3.24548283e-01, 3.41979677e-01, 3.60347305e-01, 3.79701454e-01,\n",
       "        4.00095108e-01, 4.21584100e-01, 4.44227259e-01, 4.68086576e-01,\n",
       "        4.93227369e-01, 5.19718467e-01, 5.47632394e-01, 5.77045571e-01,\n",
       "        6.08038520e-01, 6.40696091e-01, 6.75107692e-01, 7.11367529e-01,\n",
       "        7.49574871e-01, 7.89834319e-01, 8.32256090e-01, 8.76956322e-01,\n",
       "        9.24057390e-01, 9.73688243e-01, 1.02598475e+00, 1.08109010e+00,\n",
       "        1.13915513e+00, 1.20033882e+00, 1.26480867e+00, 1.33274117e+00,\n",
       "        1.40432231e+00, 1.47974805e+00, 1.55922489e+00, 1.64297041e+00,\n",
       "        1.73121387e+00, 1.82419686e+00, 1.92217394e+00, 2.02541334e+00,\n",
       "        2.13419770e+00, 2.24882484e+00, 2.36960856e+00, 2.49687955e+00,\n",
       "        2.63098622e+00, 2.77229572e+00, 2.92119492e+00, 3.07809144e+00,\n",
       "        3.24341484e+00, 3.41761770e+00, 3.60117695e+00, 3.79459512e+00,\n",
       "        3.99840171e+00, 4.21315470e+00, 4.43944202e+00, 4.67788315e+00,\n",
       "        4.92913089e+00, 5.19387307e+00, 5.47283448e+00, 5.76677883e+00,\n",
       "        6.07651083e+00, 6.40287846e+00, 6.74677519e+00, 7.10914252e+00,\n",
       "        7.49097249e+00, 7.89331044e+00, 8.31725784e+00, 8.76397534e+00,\n",
       "        9.23468590e+00, 9.73067818e+00, 1.02533101e+01, 1.08040124e+01,\n",
       "        1.13842927e+01, 1.19957398e+01, 1.26400274e+01, 1.33189196e+01,\n",
       "        1.40342749e+01, 1.47880517e+01, 1.55823137e+01, 1.64192352e+01,\n",
       "        1.73011075e+01, 1.82303450e+01, 1.92094915e+01, 2.02412277e+01,\n",
       "        2.13283781e+01, 2.24739191e+01, 2.36809867e+01, 2.49528856e+01,\n",
       "        2.62930978e+01, 2.77052924e+01, 2.91933356e+01, 3.07613011e+01,\n",
       "        3.24134817e+01, 3.41544003e+01, 3.59888232e+01, 3.79217724e+01,\n",
       "        3.99585397e+01, 4.21047012e+01, 4.43661324e+01, 4.67490245e+01,\n",
       "        4.92599009e+01, 5.19056359e+01, 5.46934724e+01, 5.76310429e+01,\n",
       "        6.07263894e+01, 6.39879860e+01, 6.74247621e+01, 7.10461264e+01,\n",
       "        7.48619932e+01, 7.88828090e+01, 8.31195816e+01, 8.75839101e+01,\n",
       "        9.22880164e+01, 9.72447788e+01, 1.02467768e+02, 1.07971281e+02,\n",
       "        1.13770388e+02, 1.19880962e+02, 1.26319733e+02, 1.33104329e+02,\n",
       "        1.40253324e+02, 1.47786289e+02, 1.55723848e+02, 1.64087730e+02,\n",
       "        1.72900834e+02, 1.82187288e+02, 1.91972514e+02, 2.02283301e+02,\n",
       "        2.13147879e+02, 2.24595989e+02, 2.36658974e+02, 2.49369859e+02,\n",
       "        2.62763441e+02, 2.76876389e+02, 2.91747339e+02, 3.07417003e+02,\n",
       "        3.23928281e+02, 3.41326374e+02, 3.59658914e+02, 3.78976090e+02,\n",
       "        3.99330785e+02, 4.20778725e+02, 4.43378628e+02, 4.67192364e+02,\n",
       "        4.92285130e+02, 5.18725621e+02, 5.46586223e+02, 5.75943209e+02]])"
      ]
     },
     "execution_count": 6,
     "metadata": {},
     "output_type": "execute_result"
    }
   ],
   "source": [
    "RL"
   ]
  },
  {
   "cell_type": "code",
   "execution_count": 7,
   "id": "9ab64b1d",
   "metadata": {},
   "outputs": [
    {
     "name": "stdout",
     "output_type": "stream",
     "text": [
      "! Scaling:  R= 575.9432091934026   M= 1.0\n",
      "1.0 0.9999999999999992 0.9999999999999993 0.9999999999999993\n",
      "\n",
      "---\n",
      "id: sphereSL\n",
      "parameters :\n",
      "  numr: 200\n",
      "  rmin: 0.017\n",
      "  rmax: 575.943\n",
      "  Lmax: 6\n",
      "  nmax: 20\n",
      "  modelname: Au16_Snap63_table.txt\n",
      "...\n",
      "\n"
     ]
    }
   ],
   "source": [
    "R0,D0,M0,P0 = makemodel_empirical(RL[-1], DL[-1], \"Au{}_Snap{}_table.txt\".format(nhalo,63))\n",
    "config0=\"\"\"\n",
    "---\n",
    "id: sphereSL\n",
    "parameters :\n",
    "  numr: %s\n",
    "  rmin: %s\n",
    "  rmax: %s\n",
    "  Lmax: 6\n",
    "  nmax: 20\n",
    "  modelname: %s_%s_table.txt\n",
    "...\n",
    "\"\"\"%(len(R0),round(np.nanmin(R0),3), round(np.nanmax(R0),3),'Au'+str(nhalo),'Snap'+str(63))\n",
    "print(config0)"
   ]
  },
  {
   "cell_type": "code",
   "execution_count": 8,
   "id": "019c5f25",
   "metadata": {},
   "outputs": [
    {
     "name": "stdout",
     "output_type": "stream",
     "text": [
      "! Scaling:  R= 193.13716406422785   M= 1.0\n",
      "1.0 0.9999999999999997 0.9999999999999998 0.9999999999999998\n",
      "\n",
      "---\n",
      "id: sphereSL\n",
      "parameters :\n",
      "  numr: 200\n",
      "  rmin: 0.006\n",
      "  rmax: 193.137\n",
      "  Lmax: 6\n",
      "  nmax: 20\n",
      "  modelname: Au16_Snap39_table.txt\n",
      "...\n",
      "\n"
     ]
    }
   ],
   "source": [
    "R39,D39,M39,P39 = makemodel_empirical(RL[0], DL[0], \"Au{}_Snap{}_table.txt\".format(nhalo,39))\n",
    "config39=\"\"\"\n",
    "---\n",
    "id: sphereSL\n",
    "parameters :\n",
    "  numr: %s\n",
    "  rmin: %s\n",
    "  rmax: %s\n",
    "  Lmax: 6\n",
    "  nmax: 20\n",
    "  modelname: %s_%s_table.txt\n",
    "...\n",
    "\"\"\"%(len(R39),round(np.nanmin(R39),3), round(np.nanmax(R39),3),'Au'+str(nhalo),'Snap'+str(39))\n",
    "print(config39)"
   ]
  },
  {
   "cell_type": "code",
   "execution_count": null,
   "id": "344cb2ef",
   "metadata": {},
   "outputs": [],
   "source": [
    "def func(rs,ii):\n",
    "    basis = pyEXP.basis.Basis.factory(ii)\n",
    "    EBF(rs,basis)\n",
    "for ii,rs in [(config0,R0),(config39,R39)]:\n",
    "    func(rs,ii)\n",
    "    #del basis"
   ]
  },
  {
   "cell_type": "code",
   "execution_count": 9,
   "id": "e8f37dd2",
   "metadata": {},
   "outputs": [],
   "source": [
    "basis39 = pyEXP.basis.Basis.factory(config39)"
   ]
  },
  {
   "cell_type": "code",
   "execution_count": null,
   "id": "ef779391",
   "metadata": {},
   "outputs": [],
   "source": [
    "EBF(R0,basis0)"
   ]
  },
  {
   "cell_type": "code",
   "execution_count": null,
   "id": "f78fea17",
   "metadata": {},
   "outputs": [],
   "source": [
    "EBF(R39,basis39)"
   ]
  },
  {
   "cell_type": "code",
   "execution_count": null,
   "id": "90d424ed",
   "metadata": {},
   "outputs": [],
   "source": [
    "def BuildFields(args):\n",
    "    \n",
    "    conf,ns = args\n",
    "    basis = pyEXP.basis.Basis.factory(config0)\n",
    "    def GetFields(coords):\n",
    "        dens0,potl0,dens,potl,fx,fy,fz = basis.getFields(x=coords[0],y=coords[1],z=coords[2])\n",
    "        return dens0,dens,potl0,potl\n",
    "    \n",
    "    pool = SerialPool()\n",
    "    Fields = np.array(list(pool.map(GetFields, pos )))\n",
    "    \n",
    "    den0, den1,pot0,pot1 = values[:,0], values[:,1], values[:,2], values[:,3]\n",
    "    rpos =  np.sqrt(pos[:,0]**2 + pos[:,1]**2 + pos[:,2]**2)\n",
    "    M0,M1 = den0*((4*np.pi*rpos**3)/3),den1*((4*np.pi*rpos**3)/3)\n",
    "    \n",
    "    den0, den1,pot0,pot1 = np.array(Fields[:,0]),np.array(Fields[:,1]),np.array(Fields[:,2]),np.array(Fields[:,3])\n",
    "    \n",
    "    Npx=50\n",
    "\n",
    "\n",
    "    Hden,Hpot,Hpotmed = np.zeros((Npx,Npx)),np.zeros((Npx,Npx)),np.zeros((Npx,Npx))\n",
    "    den_mon,den_nonmon = np.zeros((Npx,Npx)),np.zeros((Npx,Npx))\n",
    "    pot_mon,pot_nonmon = np.zeros((Npx,Npx)),np.zeros((Npx,Npx))\n",
    "    xb,yb=np.linspace(pos[:,0].min(), pos[:,0].max(),Npx),np.linspace(pos[:,1].min(), pos[:,1].max(),Npx)\n",
    "    dx,dy= xb[1]-xb[0],yb[1]-yb[0]\n",
    "    xgrid, ygrid = np.meshgrid(xb, yb)\n",
    "\n",
    "    rbord = np.argsort(rr)\n",
    "    rb,mb = rr[rbord],mass[rbord]\n",
    "    rbord1=np.argsort(rbord)\n",
    "    mbacc = np.cumsum(mb)\n",
    "    Pot_au=  ((-mbacc/rb) - (np.sum(mb/rb)-np.cumsum(mb/rb)))[rbord1]\n",
    "\n",
    "    for j in range(yb.size -1):\n",
    "        for i in range(xb.size-1):\n",
    "            sel = (xb[i]<=pos[:,0])&(pos[:,0]<=xb[i+1]) & (yb[j]<=pos[:,1])&(pos[:,1]<=yb[j+1])\n",
    "            if len(pos[:,2][sel])>0:\n",
    "                dz = np.nanmax(pos[:,2][sel])-np.nanmin(pos[:,2][sel])\n",
    "                Hden[j][i] = np.sum(mass[sel])/(dx*dy*dz)\n",
    "                den_mon[j][i],den_nonmon[j][i]=np.median(den0[sel]),np.median(den1[sel])\n",
    "            \n",
    "                Hpot[j][i] = np.sum(Pot_au[sel])/(dx*dy*dz)#potdm\n",
    "                Hpotmed[j][i] = np.median(Pot_au[sel])#potdm\n",
    "                pot_mon[j][i],pot_nonmon[j][i]=np.median(pot0[sel]),np.median(pot1[sel])\n",
    "            else: pass\n",
    "            \n",
    "    #------------------------------------------------------------------------\n",
    "    \n",
    "    km2kpc=3.24078e-17\n",
    "\n",
    "    Hpot_= np.log10(np.abs( Hpotmed))#* (rbins[-1]/(G*Macc[-1]) )    ))\n",
    "\n",
    "    fig, ax = plt.subplots(1, 3, figsize=(25,6))\n",
    "    extent = xb.min(),xb.max(),yb.min(),yb.max()\n",
    "    im = ax[0].imshow(Hpot_,extent=extent,aspect='auto',origin='lower',interpolation='none',cmap='gist_stern')\n",
    "    plt.colorbar(im, ax=ax[0],label='Potential')\n",
    "    #im.set_clim(7,12)\n",
    "    ax[0].set_title('Input Data',fontsize=18)\n",
    "    #*(rbins[-1]/(Macc[-1]) ) \n",
    "    #im2 = ax[1].contourf(xgrid, ygrid, np.log10(np.abs(den_mon + den_nonmon)),40,cmap='gist_stern')\n",
    "    im2 = ax[1].imshow(np.log10(np.abs(pot_mon + pot_nonmon)),extent=extent,aspect='auto',origin='lower',interpolation='none',cmap='gist_stern')\n",
    "    plt.colorbar(im2, ax=ax[1],label='Potential')\n",
    "    im2.set_clim(im.get_clim()[0],im.get_clim()[1])\n",
    "    ax[1].set_title('Potential Field Reconstruction',fontsize=18)\n",
    "\n",
    "\n",
    "    potresidual = (Hpotmed - (pot_mon + pot_nonmon))/Hpotmed\n",
    "\n",
    "    #im3 = ax[2].imshow(denmask,extent=extent,aspect='auto',origin='lower',interpolation='none',cmap='gist_stern')\n",
    "    im3 = ax[2].contourf(xgrid, ygrid, potresidual,50,cmap='gist_stern')\n",
    "    plt.colorbar(im3, ax=ax[2],label='Potential')\n",
    "    #im3.set_clim(7,12)\n",
    "    for i_ in [0,1,2]:\n",
    "        ax[i_].set_xlabel('x kpc',fontsize=15)\n",
    "        ax[i_].set_ylabel('y kpc',fontsize=15)\n",
    "    plt.subplots_adjust(wspace=0.1)\n",
    "    ax[2].set_title('Residual',fontsize=18)\n",
    "    plt.savefig('plots/PotEXP_Au%s_Snap&s.png'%(str(nhalo),str(ns)))\n",
    "    plt.show()\n",
    "\n",
    "    plt.close()\n",
    "    return 1"
   ]
  },
  {
   "cell_type": "code",
   "execution_count": null,
   "id": "68a9d889",
   "metadata": {},
   "outputs": [],
   "source": []
  },
  {
   "cell_type": "code",
   "execution_count": null,
   "id": "c5afc001",
   "metadata": {},
   "outputs": [],
   "source": [
    "pool = MultiPool()\n",
    "args=[[basis0,63],[basis39,39]]\n",
    "ret = np.array(list(pool.map(BuildFields, args )))\n",
    "pool.close()\n"
   ]
  }
 ],
 "metadata": {
  "kernelspec": {
   "display_name": "Python 3",
   "language": "python",
   "name": "python3"
  },
  "language_info": {
   "codemirror_mode": {
    "name": "ipython",
    "version": 3
   },
   "file_extension": ".py",
   "mimetype": "text/x-python",
   "name": "python",
   "nbconvert_exporter": "python",
   "pygments_lexer": "ipython3",
   "version": "3.6.15"
  }
 },
 "nbformat": 4,
 "nbformat_minor": 5
}
