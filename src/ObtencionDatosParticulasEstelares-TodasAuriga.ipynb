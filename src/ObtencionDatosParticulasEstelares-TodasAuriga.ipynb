{
 "cells": [
  {
   "cell_type": "markdown",
   "metadata": {},
   "source": [
    "Código que extrae las propiedades de las partículas estelares de las Auriga Level 3 de baja masa."
   ]
  },
  {
   "cell_type": "code",
   "execution_count": 1,
   "metadata": {
    "scrolled": true
   },
   "outputs": [],
   "source": [
    "from loadmodules import *\n",
    "import numpy as np\n",
    "import matplotlib.pyplot as plt\n",
    "#/data/repository/level3_MHD/halo_24/output/snapdir_063/\n",
    "from scipy.stats import binned_statistic_2d, binned_statistic"
   ]
  },
  {
   "cell_type": "code",
   "execution_count": 2,
   "metadata": {},
   "outputs": [],
   "source": [
    "def StellarDensity2D(x,y,weights,minMax=None,statistic='sum',npix = [250,250],style='SB'):\n",
    "    if minMax==None: minMax=[ min([min(x),min(y)]),max([max(x),max(y)]) ]\n",
    "        \n",
    "    grid, _x, _y, _ = binned_statistic_2d(x, y, weights, statistic, bins=npix)#, range=[minMax,minMax])\n",
    "    box=np.abs(_x[1]-_x[0])#k['box']\n",
    "    #minMax = [0, 1]\n",
    "    \n",
    "    if style=='normal': return grid,box\n",
    "    if statistic=='sum':\n",
    "        \n",
    "        if style=='SB':\n",
    "            #box_arcsec = np.rad2deg(np.arctan(box*1000/10))*(60*60)\n",
    "            box_arcsec = (box*1000/10)*((180*60*60)/np.pi)\n",
    "            return grid / box_arcsec**2,_x,_y,box\n",
    "        if style=='SD':\n",
    "            return grid / box**2,_x,_y,box\n",
    "    if statistic!='sum':\n",
    "        print('statistic i not sum')\n",
    "        raise SystemExit"
   ]
  },
  {
   "cell_type": "code",
   "execution_count": 3,
   "metadata": {
    "scrolled": true
   },
   "outputs": [
    {
     "name": "stdout",
     "output_type": "stream",
     "text": [
      "\u001b[0m\u001b[00mbalance.txt\u001b[0m                \u001b[00mmetals_gas.txt\u001b[0m\r\n",
      "\u001b[00mbh_pressure_threshold.txt\u001b[0m  \u001b[00mmetals_stars.txt\u001b[0m\r\n",
      "\u001b[01;34mblackhole_details\u001b[0m/         \u001b[00mmetals_tot.txt\u001b[0m\r\n",
      "\u001b[01;34mblackhole_mergers\u001b[0m/         \u001b[00mparameters-usedvalues\u001b[0m\r\n",
      "\u001b[00mblackholes.txt\u001b[0m             \u001b[00mradio_mode_eff_vs_vvir.txt\u001b[0m\r\n",
      "\u001b[00mcont\u001b[0m                       \u001b[00mrotmatlist_halo_6.txt\u001b[0m\r\n",
      "\u001b[00mcpu.txt\u001b[0m                    \u001b[00msfr.txt\u001b[0m\r\n",
      "\u001b[00mdomain.txt\u001b[0m                 \u001b[01;34msnapdir_000\u001b[0m/\r\n",
      "\u001b[00menergy.txt\u001b[0m                 \u001b[01;34msnapdir_001\u001b[0m/\r\n",
      "\u001b[00mgalcen_halo_6.txt\u001b[0m          \u001b[01;34msnapdir_002\u001b[0m/\r\n",
      "\u001b[01;34mgroups_000\u001b[0m/                \u001b[01;34msnapdir_003\u001b[0m/\r\n",
      "\u001b[01;34mgroups_001\u001b[0m/                \u001b[01;34msnapdir_004\u001b[0m/\r\n",
      "\u001b[01;34mgroups_002\u001b[0m/                \u001b[01;34msnapdir_005\u001b[0m/\r\n",
      "\u001b[01;34mgroups_003\u001b[0m/                \u001b[01;34msnapdir_006\u001b[0m/\r\n",
      "\u001b[01;34mgroups_004\u001b[0m/                \u001b[01;34msnapdir_007\u001b[0m/\r\n",
      "\u001b[01;34mgroups_005\u001b[0m/                \u001b[01;34msnapdir_008\u001b[0m/\r\n",
      "\u001b[01;34mgroups_006\u001b[0m/                \u001b[01;34msnapdir_009\u001b[0m/\r\n",
      "\u001b[01;34mgroups_007\u001b[0m/                \u001b[01;34msnapdir_010\u001b[0m/\r\n",
      "\u001b[01;34mgroups_008\u001b[0m/                \u001b[01;34msnapdir_011\u001b[0m/\r\n",
      "\u001b[01;34mgroups_009\u001b[0m/                \u001b[01;34msnapdir_012\u001b[0m/\r\n",
      "\u001b[01;34mgroups_010\u001b[0m/                \u001b[01;34msnapdir_013\u001b[0m/\r\n",
      "\u001b[01;34mgroups_011\u001b[0m/                \u001b[01;34msnapdir_014\u001b[0m/\r\n",
      "\u001b[01;34mgroups_012\u001b[0m/                \u001b[01;34msnapdir_015\u001b[0m/\r\n",
      "\u001b[01;34mgroups_013\u001b[0m/                \u001b[01;34msnapdir_016\u001b[0m/\r\n",
      "\u001b[01;34mgroups_014\u001b[0m/                \u001b[01;34msnapdir_017\u001b[0m/\r\n",
      "\u001b[01;34mgroups_015\u001b[0m/                \u001b[01;34msnapdir_018\u001b[0m/\r\n",
      "\u001b[01;34mgroups_016\u001b[0m/                \u001b[01;34msnapdir_019\u001b[0m/\r\n",
      "\u001b[01;34mgroups_017\u001b[0m/                \u001b[01;34msnapdir_020\u001b[0m/\r\n",
      "\u001b[01;34mgroups_018\u001b[0m/                \u001b[01;34msnapdir_021\u001b[0m/\r\n",
      "\u001b[01;34mgroups_019\u001b[0m/                \u001b[01;34msnapdir_022\u001b[0m/\r\n",
      "\u001b[01;34mgroups_020\u001b[0m/                \u001b[01;34msnapdir_023\u001b[0m/\r\n",
      "\u001b[01;34mgroups_021\u001b[0m/                \u001b[01;34msnapdir_024\u001b[0m/\r\n",
      "\u001b[01;34mgroups_022\u001b[0m/                \u001b[01;34msnapdir_025\u001b[0m/\r\n",
      "\u001b[01;34mgroups_023\u001b[0m/                \u001b[01;34msnapdir_026\u001b[0m/\r\n",
      "\u001b[01;34mgroups_024\u001b[0m/                \u001b[01;34msnapdir_027\u001b[0m/\r\n",
      "\u001b[01;34mgroups_025\u001b[0m/                \u001b[01;34msnapdir_028\u001b[0m/\r\n",
      "\u001b[01;34mgroups_026\u001b[0m/                \u001b[01;34msnapdir_029\u001b[0m/\r\n",
      "\u001b[01;34mgroups_027\u001b[0m/                \u001b[01;34msnapdir_030\u001b[0m/\r\n",
      "\u001b[01;34mgroups_028\u001b[0m/                \u001b[01;34msnapdir_031\u001b[0m/\r\n",
      "\u001b[01;34mgroups_029\u001b[0m/                \u001b[01;34msnapdir_032\u001b[0m/\r\n",
      "\u001b[01;34mgroups_030\u001b[0m/                \u001b[01;34msnapdir_033\u001b[0m/\r\n",
      "\u001b[01;34mgroups_031\u001b[0m/                \u001b[01;34msnapdir_034\u001b[0m/\r\n",
      "\u001b[01;34mgroups_032\u001b[0m/                \u001b[01;34msnapdir_035\u001b[0m/\r\n",
      "\u001b[01;34mgroups_033\u001b[0m/                \u001b[01;34msnapdir_036\u001b[0m/\r\n",
      "\u001b[01;34mgroups_034\u001b[0m/                \u001b[01;34msnapdir_037\u001b[0m/\r\n",
      "\u001b[01;34mgroups_035\u001b[0m/                \u001b[01;34msnapdir_038\u001b[0m/\r\n",
      "\u001b[01;34mgroups_036\u001b[0m/                \u001b[01;34msnapdir_039\u001b[0m/\r\n",
      "\u001b[01;34mgroups_037\u001b[0m/                \u001b[01;34msnapdir_040\u001b[0m/\r\n",
      "\u001b[01;34mgroups_038\u001b[0m/                \u001b[01;34msnapdir_041\u001b[0m/\r\n",
      "\u001b[01;34mgroups_039\u001b[0m/                \u001b[01;34msnapdir_042\u001b[0m/\r\n",
      "\u001b[01;34mgroups_040\u001b[0m/                \u001b[01;34msnapdir_043\u001b[0m/\r\n",
      "\u001b[01;34mgroups_041\u001b[0m/                \u001b[01;34msnapdir_044\u001b[0m/\r\n",
      "\u001b[01;34mgroups_042\u001b[0m/                \u001b[01;34msnapdir_045\u001b[0m/\r\n",
      "\u001b[01;34mgroups_043\u001b[0m/                \u001b[01;34msnapdir_046\u001b[0m/\r\n",
      "\u001b[01;34mgroups_044\u001b[0m/                \u001b[01;34msnapdir_047\u001b[0m/\r\n",
      "\u001b[01;34mgroups_045\u001b[0m/                \u001b[01;34msnapdir_048\u001b[0m/\r\n",
      "\u001b[01;34mgroups_046\u001b[0m/                \u001b[01;34msnapdir_049\u001b[0m/\r\n",
      "\u001b[01;34mgroups_047\u001b[0m/                \u001b[01;34msnapdir_050\u001b[0m/\r\n",
      "\u001b[01;34mgroups_048\u001b[0m/                \u001b[01;34msnapdir_051\u001b[0m/\r\n",
      "\u001b[01;34mgroups_049\u001b[0m/                \u001b[01;34msnapdir_052\u001b[0m/\r\n",
      "\u001b[01;34mgroups_050\u001b[0m/                \u001b[01;34msnapdir_053\u001b[0m/\r\n",
      "\u001b[01;34mgroups_051\u001b[0m/                \u001b[01;34msnapdir_054\u001b[0m/\r\n",
      "\u001b[01;34mgroups_052\u001b[0m/                \u001b[01;34msnapdir_055\u001b[0m/\r\n",
      "\u001b[01;34mgroups_053\u001b[0m/                \u001b[01;34msnapdir_056\u001b[0m/\r\n",
      "\u001b[01;34mgroups_054\u001b[0m/                \u001b[01;34msnapdir_057\u001b[0m/\r\n",
      "\u001b[01;34mgroups_055\u001b[0m/                \u001b[01;34msnapdir_058\u001b[0m/\r\n",
      "\u001b[01;34mgroups_056\u001b[0m/                \u001b[01;34msnapdir_059\u001b[0m/\r\n",
      "\u001b[01;34mgroups_057\u001b[0m/                \u001b[01;34msnapdir_060\u001b[0m/\r\n",
      "\u001b[01;34mgroups_058\u001b[0m/                \u001b[01;34msnapdir_061\u001b[0m/\r\n",
      "\u001b[01;34mgroups_059\u001b[0m/                \u001b[01;34msnapdir_062\u001b[0m/\r\n",
      "\u001b[01;34mgroups_060\u001b[0m/                \u001b[01;34msnapdir_063\u001b[0m/\r\n",
      "\u001b[01;34mgroups_061\u001b[0m/                \u001b[00mSN.txt\u001b[0m\r\n",
      "\u001b[01;34mgroups_062\u001b[0m/                \u001b[00mtimebins.txt\u001b[0m\r\n",
      "\u001b[01;34mgroups_063\u001b[0m/                \u001b[00mtimings.txt\u001b[0m\r\n",
      "\u001b[00minfo.txt\u001b[0m                   \u001b[00mvariable_wind_scaling.txt\u001b[0m\r\n",
      "\u001b[00mmemory.txt\u001b[0m\r\n"
     ]
    }
   ],
   "source": [
    "ls /virgo/simulations/Auriga/level3_MHD/halo_6/output/"
   ]
  },
  {
   "cell_type": "code",
   "execution_count": 4,
   "metadata": {},
   "outputs": [],
   "source": [
    "# Determino el número de snapshot, el factor de escala y el path\n",
    "snap = 63#251\n",
    "fac_esc = 1      # z = 0"
   ]
  },
  {
   "cell_type": "code",
   "execution_count": 5,
   "metadata": {},
   "outputs": [],
   "source": [
    "# Defino parámetros a utilizar\n",
    "h_0 = 0.06777\n",
    "omega_lambda= 0.693\n",
    "omega_m=0.307\n",
    "w = omega_m / (omega_lambda*(fac_esc**3))\n",
    "hubble_t = h_0 * np.sqrt(omega_lambda * np.sqrt(1+w))"
   ]
  },
  {
   "cell_type": "code",
   "execution_count": 6,
   "metadata": {},
   "outputs": [],
   "source": [
    "# Defino la lista con los campos que pido para los subhalos\n",
    "fields_subhalo = ['flty','spos','sidm','fpos','frc2','slty','svel','fnsh']"
   ]
  },
  {
   "cell_type": "code",
   "execution_count": 7,
   "metadata": {
    "scrolled": false
   },
   "outputs": [
    {
     "ename": "AttributeError",
     "evalue": "'Dataset' object has no attribute 'value'",
     "output_type": "error",
     "traceback": [
      "\u001b[0;31m---------------------------------------------------------------------------\u001b[0m",
      "\u001b[0;31mAttributeError\u001b[0m                            Traceback (most recent call last)",
      "Input \u001b[0;32mIn [7]\u001b[0m, in \u001b[0;36m<cell line: 3>\u001b[0;34m()\u001b[0m\n\u001b[1;32m      6\u001b[0m path \u001b[38;5;241m=\u001b[39m \u001b[38;5;124m'\u001b[39m\u001b[38;5;124m/virgo/simulations/Auriga/level3_MHD/halo_\u001b[39m\u001b[38;5;132;01m%s\u001b[39;00m\u001b[38;5;124m/output/\u001b[39m\u001b[38;5;124m'\u001b[39m\u001b[38;5;241m%\u001b[39mi\n\u001b[1;32m      8\u001b[0m \u001b[38;5;66;03m# Cargo la información de los subhalos\u001b[39;00m\n\u001b[0;32m----> 9\u001b[0m sf \u001b[38;5;241m=\u001b[39m \u001b[43mload_subfind\u001b[49m\u001b[43m(\u001b[49m\u001b[43msnap\u001b[49m\u001b[43m,\u001b[49m\u001b[43m \u001b[49m\u001b[38;5;28;43mdir\u001b[39;49m\u001b[38;5;241;43m=\u001b[39;49m\u001b[43mpath\u001b[49m\u001b[43m,\u001b[49m\u001b[43m \u001b[49m\u001b[43mloadonly\u001b[49m\u001b[38;5;241;43m=\u001b[39;49m\u001b[43mfields_subhalo\u001b[49m\u001b[43m)\u001b[49m\n\u001b[1;32m     10\u001b[0m lenstars  \u001b[38;5;241m=\u001b[39m sf\u001b[38;5;241m.\u001b[39mdata[\u001b[38;5;124m'\u001b[39m\u001b[38;5;124mslty\u001b[39m\u001b[38;5;124m'\u001b[39m][\u001b[38;5;241m0\u001b[39m,\u001b[38;5;241m4\u001b[39m]\n\u001b[1;32m     11\u001b[0m \u001b[38;5;28mprint\u001b[39m(\u001b[38;5;124m'\u001b[39m\u001b[38;5;124mCantidad de partículas estelares del halo con ID=0:\u001b[39m\u001b[38;5;124m'\u001b[39m, lenstars, \u001b[38;5;124m'\u001b[39m\u001b[38;5;124m(Auriga \u001b[39m\u001b[38;5;132;01m%s\u001b[39;00m\u001b[38;5;124m)\u001b[39m\u001b[38;5;124m'\u001b[39m\u001b[38;5;241m%\u001b[39mi)\n",
      "File \u001b[0;32m~/.local/lib/python3.9/site-packages/gadget_subfind.py:10\u001b[0m, in \u001b[0;36mload_subfind\u001b[0;34m(id, base, dir, verbose, loadonly, hdf5, forcesingleprec, cosmological, onlyHeader)\u001b[0m\n\u001b[1;32m      9\u001b[0m \u001b[38;5;28;01mdef\u001b[39;00m \u001b[38;5;21mload_subfind\u001b[39m( \u001b[38;5;28mid\u001b[39m, base\u001b[38;5;241m=\u001b[39m\u001b[38;5;124m\"\u001b[39m\u001b[38;5;124mfof_subhalo_tab_\u001b[39m\u001b[38;5;124m\"\u001b[39m, \u001b[38;5;28mdir\u001b[39m\u001b[38;5;241m=\u001b[39m\u001b[38;5;124m\"\u001b[39m\u001b[38;5;124m\"\u001b[39m, verbose\u001b[38;5;241m=\u001b[39m\u001b[38;5;28;01mFalse\u001b[39;00m, loadonly\u001b[38;5;241m=\u001b[39m\u001b[38;5;28;01mFalse\u001b[39;00m, hdf5\u001b[38;5;241m=\u001b[39m\u001b[38;5;28;01mTrue\u001b[39;00m, forcesingleprec\u001b[38;5;241m=\u001b[39m\u001b[38;5;28;01mFalse\u001b[39;00m, cosmological\u001b[38;5;241m=\u001b[39m\u001b[38;5;28;01mNone\u001b[39;00m, onlyHeader\u001b[38;5;241m=\u001b[39m\u001b[38;5;28;01mFalse\u001b[39;00m ):\n\u001b[0;32m---> 10\u001b[0m     \u001b[38;5;28;01mreturn\u001b[39;00m \u001b[43msubfind\u001b[49m\u001b[43m(\u001b[49m\u001b[43m \u001b[49m\u001b[38;5;28;43mid\u001b[39;49m\u001b[43m,\u001b[49m\u001b[43m \u001b[49m\u001b[43mbase\u001b[49m\u001b[43m,\u001b[49m\u001b[43m \u001b[49m\u001b[38;5;28;43mdir\u001b[39;49m\u001b[43m,\u001b[49m\u001b[43m \u001b[49m\u001b[43mverbose\u001b[49m\u001b[43m,\u001b[49m\u001b[43m \u001b[49m\u001b[43mloadonly\u001b[49m\u001b[38;5;241;43m=\u001b[39;49m\u001b[43mloadonly\u001b[49m\u001b[43m,\u001b[49m\u001b[43m \u001b[49m\u001b[43mhdf5\u001b[49m\u001b[38;5;241;43m=\u001b[39;49m\u001b[43mhdf5\u001b[49m\u001b[43m,\u001b[49m\u001b[43m \u001b[49m\u001b[43mforcesingleprec\u001b[49m\u001b[38;5;241;43m=\u001b[39;49m\u001b[43mforcesingleprec\u001b[49m\u001b[43m,\u001b[49m\u001b[43m \u001b[49m\u001b[43mcosmological\u001b[49m\u001b[38;5;241;43m=\u001b[39;49m\u001b[43mcosmological\u001b[49m\u001b[43m,\u001b[49m\u001b[43m \u001b[49m\u001b[43monlyHeader\u001b[49m\u001b[38;5;241;43m=\u001b[39;49m\u001b[43monlyHeader\u001b[49m\u001b[43m \u001b[49m\u001b[43m)\u001b[49m\n",
      "File \u001b[0;32m~/.local/lib/python3.9/site-packages/gadget_subfind.py:153\u001b[0m, in \u001b[0;36msubfind.__init__\u001b[0;34m(self, id, base, directory, verbose, loadonly, hdf5, forcesingleprec, cosmological, minimal, onlyHeader)\u001b[0m\n\u001b[1;32m    150\u001b[0m \u001b[38;5;28mself\u001b[39m\u001b[38;5;241m.\u001b[39mdata \u001b[38;5;241m=\u001b[39m {}\n\u001b[1;32m    152\u001b[0m \u001b[38;5;28mself\u001b[39m\u001b[38;5;241m.\u001b[39mverbose \u001b[38;5;241m=\u001b[39m verbose\n\u001b[0;32m--> 153\u001b[0m \u001b[38;5;28;43mself\u001b[39;49m\u001b[38;5;241;43m.\u001b[39;49m\u001b[43mload\u001b[49m\u001b[43m(\u001b[49m\u001b[43mloadlist\u001b[49m\u001b[43m,\u001b[49m\u001b[43m \u001b[49m\u001b[43monlyHeader\u001b[49m\u001b[43m)\u001b[49m\n\u001b[1;32m    155\u001b[0m \u001b[38;5;28;01mif\u001b[39;00m((\u001b[38;5;28mself\u001b[39m\u001b[38;5;241m.\u001b[39mredshift \u001b[38;5;241m>\u001b[39m \u001b[38;5;241m0\u001b[39m \u001b[38;5;129;01mand\u001b[39;00m \u001b[38;5;129;01mnot\u001b[39;00m cosmological \u001b[38;5;241m==\u001b[39m \u001b[38;5;28;01mFalse\u001b[39;00m) \u001b[38;5;129;01mor\u001b[39;00m (cosmological \u001b[38;5;241m==\u001b[39m \u001b[38;5;28;01mTrue\u001b[39;00m)):\n\u001b[1;32m    156\u001b[0m   \u001b[38;5;28mself\u001b[39m\u001b[38;5;241m.\u001b[39mtransform_to_physical_units()\n",
      "File \u001b[0;32m~/.local/lib/python3.9/site-packages/gadget_subfind.py:195\u001b[0m, in \u001b[0;36msubfind.load\u001b[0;34m(self, loadlist, onlyHeader)\u001b[0m\n\u001b[1;32m    192\u001b[0m     \u001b[38;5;28mself\u001b[39m\u001b[38;5;241m.\u001b[39mnhalos[fileid] \u001b[38;5;241m=\u001b[39m \u001b[38;5;28mself\u001b[39m\u001b[38;5;241m.\u001b[39mngroups\n\u001b[1;32m    193\u001b[0m     \u001b[38;5;28mself\u001b[39m\u001b[38;5;241m.\u001b[39mload_header( \u001b[38;5;124m\"\u001b[39m\u001b[38;5;132;01m%s\u001b[39;00m\u001b[38;5;124m.\u001b[39m\u001b[38;5;132;01m%d\u001b[39;00m\u001b[38;5;132;01m%s\u001b[39;00m\u001b[38;5;124m\"\u001b[39m \u001b[38;5;241m%\u001b[39m (\u001b[38;5;28mself\u001b[39m\u001b[38;5;241m.\u001b[39mfile,fileid,\u001b[38;5;28mself\u001b[39m\u001b[38;5;241m.\u001b[39msuffix) )\n\u001b[0;32m--> 195\u001b[0m \u001b[38;5;28;43mself\u001b[39;49m\u001b[38;5;241;43m.\u001b[39;49m\u001b[43mload_data\u001b[49m\u001b[43m(\u001b[49m\u001b[43m \u001b[49m\u001b[38;5;124;43m\"\u001b[39;49m\u001b[38;5;132;43;01m%s\u001b[39;49;00m\u001b[38;5;124;43m.\u001b[39;49m\u001b[38;5;132;43;01m%d\u001b[39;49;00m\u001b[38;5;132;43;01m%s\u001b[39;49;00m\u001b[38;5;124;43m\"\u001b[39;49m\u001b[43m \u001b[49m\u001b[38;5;241;43m%\u001b[39;49m\u001b[43m \u001b[49m\u001b[43m(\u001b[49m\u001b[38;5;28;43mself\u001b[39;49m\u001b[38;5;241;43m.\u001b[39;49m\u001b[43mfile\u001b[49m\u001b[43m,\u001b[49m\u001b[43mfileid\u001b[49m\u001b[43m,\u001b[49m\u001b[43m \u001b[49m\u001b[38;5;28;43mself\u001b[39;49m\u001b[38;5;241;43m.\u001b[39;49m\u001b[43msuffix\u001b[49m\u001b[43m)\u001b[49m\u001b[43m,\u001b[49m\u001b[43m \u001b[49m\u001b[38;5;28;43mself\u001b[39;49m\u001b[38;5;241;43m.\u001b[39;49m\u001b[43mverbose\u001b[49m\u001b[43m,\u001b[49m\u001b[43m \u001b[49m\u001b[43mloadlist\u001b[49m\u001b[43m \u001b[49m\u001b[43m)\u001b[49m\n\u001b[1;32m    197\u001b[0m \u001b[38;5;28;01mif\u001b[39;00m \u001b[38;5;28mself\u001b[39m\u001b[38;5;241m.\u001b[39mverbose:\n\u001b[1;32m    198\u001b[0m     \u001b[38;5;28mprint\u001b[39m( \u001b[38;5;124m\"\u001b[39m\u001b[38;5;124mLoaded additional \u001b[39m\u001b[38;5;132;01m%d\u001b[39;00m\u001b[38;5;124m groups with \u001b[39m\u001b[38;5;132;01m%d\u001b[39;00m\u001b[38;5;124m subgroups to a total of \u001b[39m\u001b[38;5;132;01m%d\u001b[39;00m\u001b[38;5;124m groups and \u001b[39m\u001b[38;5;132;01m%d\u001b[39;00m\u001b[38;5;124m subgroups.\u001b[39m\u001b[38;5;124m\"\u001b[39m \u001b[38;5;241m%\u001b[39m (\u001b[38;5;28mself\u001b[39m\u001b[38;5;241m.\u001b[39mngroups, \u001b[38;5;28mself\u001b[39m\u001b[38;5;241m.\u001b[39mnsubgroups, \u001b[38;5;28mself\u001b[39m\u001b[38;5;241m.\u001b[39mgroupsloaded, \u001b[38;5;28mself\u001b[39m\u001b[38;5;241m.\u001b[39msubgroupsloaded) )\n",
      "File \u001b[0;32m~/.local/lib/python3.9/site-packages/gadget_subfind.py:275\u001b[0m, in \u001b[0;36msubfind.load_data\u001b[0;34m(self, filename, verbose, loadlist)\u001b[0m\n\u001b[1;32m    273\u001b[0m \u001b[38;5;28;01mdef\u001b[39;00m \u001b[38;5;21mload_data\u001b[39m( \u001b[38;5;28mself\u001b[39m, filename, verbose, loadlist ):\n\u001b[1;32m    274\u001b[0m     \u001b[38;5;28;01mif\u001b[39;00m \u001b[38;5;28mself\u001b[39m\u001b[38;5;241m.\u001b[39mhdf5:\n\u001b[0;32m--> 275\u001b[0m         \u001b[38;5;28;01mreturn\u001b[39;00m \u001b[38;5;28;43mself\u001b[39;49m\u001b[38;5;241;43m.\u001b[39;49m\u001b[43mload_data_hdf5\u001b[49m\u001b[43m(\u001b[49m\u001b[43m \u001b[49m\u001b[43mfilename\u001b[49m\u001b[43m,\u001b[49m\u001b[43m \u001b[49m\u001b[43mverbose\u001b[49m\u001b[38;5;241;43m=\u001b[39;49m\u001b[43mverbose\u001b[49m\u001b[43m,\u001b[49m\u001b[43m \u001b[49m\u001b[43mloadlist\u001b[49m\u001b[38;5;241;43m=\u001b[39;49m\u001b[43mloadlist\u001b[49m\u001b[43m \u001b[49m\u001b[43m)\u001b[49m\n\u001b[1;32m    277\u001b[0m     f \u001b[38;5;241m=\u001b[39m \u001b[38;5;28mopen\u001b[39m( filename )\n\u001b[1;32m    279\u001b[0m     f\u001b[38;5;241m.\u001b[39mseek( \u001b[38;5;241m16\u001b[39m \u001b[38;5;241m+\u001b[39m \u001b[38;5;28mself\u001b[39m\u001b[38;5;241m.\u001b[39mheaderlength, \u001b[38;5;241m0\u001b[39m )\n",
      "File \u001b[0;32m~/.local/lib/python3.9/site-packages/gadget_subfind.py:362\u001b[0m, in \u001b[0;36msubfind.load_data_hdf5\u001b[0;34m(self, filename, verbose, loadlist)\u001b[0m\n\u001b[1;32m    360\u001b[0m     shape \u001b[38;5;241m=\u001b[39m (ndata[blockname],) \u001b[38;5;241m+\u001b[39m block[key]\u001b[38;5;241m.\u001b[39mshape[\u001b[38;5;241m1\u001b[39m:]\n\u001b[1;32m    361\u001b[0m     \u001b[38;5;28mself\u001b[39m\u001b[38;5;241m.\u001b[39mdata[ ckey ] \u001b[38;5;241m=\u001b[39m np\u001b[38;5;241m.\u001b[39mempty( shape, dtype\u001b[38;5;241m=\u001b[39mdatatype )\n\u001b[0;32m--> 362\u001b[0m     \u001b[38;5;28mself\u001b[39m\u001b[38;5;241m.\u001b[39mdata[ ckey ][offset[blockname]:offset[blockname]\u001b[38;5;241m+\u001b[39mndataloc[blockname]] \u001b[38;5;241m=\u001b[39m \u001b[43mblock\u001b[49m\u001b[43m[\u001b[49m\u001b[43mkey\u001b[49m\u001b[43m]\u001b[49m\u001b[38;5;241;43m.\u001b[39;49m\u001b[43mvalue\u001b[49m\n\u001b[1;32m    364\u001b[0m \u001b[38;5;28;01mif\u001b[39;00m verbose:\n\u001b[1;32m    365\u001b[0m     \u001b[38;5;28mprint\u001b[39m( \u001b[38;5;124m\"\u001b[39m\u001b[38;5;124mLoaded \u001b[39m\u001b[38;5;132;01m%s\u001b[39;00m\u001b[38;5;124m (\u001b[39m\u001b[38;5;132;01m%s\u001b[39;00m\u001b[38;5;124m) for blockname \u001b[39m\u001b[38;5;132;01m%s\u001b[39;00m\u001b[38;5;124m. Datatype \u001b[39m\u001b[38;5;132;01m%s\u001b[39;00m\u001b[38;5;124m, size \u001b[39m\u001b[38;5;132;01m%d\u001b[39;00m\u001b[38;5;124m bytes\u001b[39m\u001b[38;5;124m\"\u001b[39m \u001b[38;5;241m%\u001b[39m (ckey, key, blockname, datatype, \u001b[38;5;28mself\u001b[39m\u001b[38;5;241m.\u001b[39mdata[ckey]\u001b[38;5;241m.\u001b[39mnbytes) )\n",
      "\u001b[0;31mAttributeError\u001b[0m: 'Dataset' object has no attribute 'value'"
     ]
    }
   ],
   "source": [
    "num_particulas = []   # lista que contendrá la cantidad de partículas estelares de todas las Auriga\n",
    "haloslist=[6,16,21,24,27,23]\n",
    "for i in haloslist:#range(14):\n",
    "    if i!=21:continue\n",
    "    #path = '../../../../../data/repository/level3_MHD_10/halo_%s/output/'%i\n",
    "    path = '/virgo/simulations/Auriga/level3_MHD/halo_%s/output/'%i\n",
    "    \n",
    "    # Cargo la información de los subhalos\n",
    "    sf = load_subfind(snap, dir=path, loadonly=fields_subhalo)\n",
    "    lenstars  = sf.data['slty'][0,4]\n",
    "    print('Cantidad de partículas estelares del halo con ID=0:', lenstars, '(Auriga %s)'%i)\n",
    "\n",
    "    # Pido la información\n",
    "    s = gadget_readsnap(snap, snappath=path, hdf5=True, loadonlytype=4, loadonlyhalo=0, subfind=sf, loadonly=['pos','vel','id','age','mass','pot','type', 'gsph', 'gz'])\n",
    "\n",
    "    # Calculo la edad de las partículas estelares en Gyr\n",
    "    part_ages = s.data['age']          # entrega el factor de escala\n",
    "    part_agesGyr = s.cosmology_get_lookback_time_from_a(part_ages, is_flat=True)\n",
    "    \n",
    "    # Armo una máscara que seleccione solamente las partículas de tipo 4\n",
    "    istars, = np.where((s.data['type'] == 4))\n",
    "    \n",
    "    a = s.calc_sf_indizes(sf, verbose=True)\n",
    "\n",
    "    # Descomentar si se quiere rotar las partículas con esta función    | NO FUNCIONA CON LAS LEVEL 3 LOW MASS\n",
    "    #s.select_halo(sf, age_select = 3., use_cold_gas_spin=False, do_rotation=True)    # corte de edades en 3Gyr\n",
    "    \n",
    "    # Selecciono los datos correspondientes solamente a las partículas estelares\n",
    "    smass = s.data['mass'][istars]\n",
    "    spos = s.data['pos'][istars,:]     # las coordenadas (x,y,z) se corresponden con los índices (2,1,0)\n",
    "    svel = s.data['vel'][istars,:]     # las velocidades (vx,vy,vz) se corresponden con los índices (2,1,0)\n",
    "    age = part_agesGyr\n",
    "    pot = s.data['pot'][istars]\n",
    "    partID = s.data['id'][istars]\n",
    "    stellarphotometry = s.data['gsph']   # orden de los filtros: U, B, V, K, g, r, i, z\n",
    "    metallicity = s.data['gz']\n",
    "    print('Cantidad de partículas de tipo 4:', len(spos))\n",
    "    H,_x,_y,box = StellarDensity2D(spos[:,0],spos[:,1],smass,npix = [700,700],style='SD')\n",
    "    plt.subplot(1,2,1)\n",
    "    #plt.scatter(spos[:,0],spos[:,1])\n",
    "    plt.imshow(np.log10(H),cmap='cubehelix')\n",
    "    \n",
    "    \n",
    "    # Me quedo solamente con las del subhalo de ID=0\n",
    "    nstars = sf.data['slty'][0,4]      # máscara que indica la cantidad de partículas estelares del subhalo de ID=0\n",
    "    smass = smass[:nstars]\n",
    "    spos = spos[:nstars,:]             # multiplicar por 1000 si se quiere guardarlo en kpc\n",
    "    svel = svel[:nstars,:]\n",
    "    age = age[:nstars]\n",
    "    pot = pot[:nstars]\n",
    "    partID = partID[:nstars]\n",
    "    stellarphotometry = stellarphotometry[:nstars,:]\n",
    "    metallicity = metallicity[:nstars]\n",
    "    print('Cantidad de partículas de tipo 4 del subhalo de ID=0:', len(spos))\n",
    "    plt.subplot(1,2,2)\n",
    "    H,_x,_y,box = StellarDensity2D(spos[:,0],spos[:,1],smass,npix = [700,700],style='SD')\n",
    "    #plt.scatter(spos[:,0],spos[:,1])\n",
    "    plt.imshow(np.log10(H),cmap='cubehelix')\n",
    "    \n",
    "    # CORRER ESTA PARTE SÓLO SI PREVIAMENTE NO SE USÓ LA FUNCIÓN \"select_halo\" PARA ROTAR LAS PARTÍCULAS\n",
    "    # ----------------------------------------------\n",
    "    # Centro las posiciones y las velocidades de las partículas seleccionadas\n",
    "    pos_centradas = spos[:]-sf.data['spos'][0,:]\n",
    "    vel_centradas = svel[:]-sf.data['svel'][0,:]\n",
    "    \n",
    "    # Guardo los datos en archivos de texto\n",
    "    datos = np.asarray([pos_centradas[:,0],pos_centradas[:,1],pos_centradas[:,2],vel_centradas[:,0],vel_centradas[:,1],vel_centradas[:,2],smass,age, pot, partID, metallicity, stellarphotometry[:,0], stellarphotometry[:,1], stellarphotometry[:,2], stellarphotometry[:,3], stellarphotometry[:,4], stellarphotometry[:,5], stellarphotometry[:,6], stellarphotometry[:,7]])\n",
    "    np.savetxt('DataStelPartAuriga%s_Lvl3LowMass.txt' %i, datos)\n",
    "    \n",
    "    num_particulas += [nstars]\n",
    "    print('-------------------------------')\n",
    "    break\n",
    "# Guardo la lista con el número de partículas estelares en un archivo de texto\n",
    "#np.savetxt('CantPartEstelares_AurigaLvl3LowMass.txt', num_particulas)"
   ]
  },
  {
   "cell_type": "code",
   "execution_count": null,
   "metadata": {},
   "outputs": [],
   "source": []
  },
  {
   "cell_type": "code",
   "execution_count": null,
   "metadata": {},
   "outputs": [],
   "source": []
  },
  {
   "cell_type": "code",
   "execution_count": null,
   "metadata": {},
   "outputs": [],
   "source": []
  }
 ],
 "metadata": {
  "kernelspec": {
   "display_name": "Python 3 (ipykernel)",
   "language": "python",
   "name": "python3"
  },
  "language_info": {
   "codemirror_mode": {
    "name": "ipython",
    "version": 3
   },
   "file_extension": ".py",
   "mimetype": "text/x-python",
   "name": "python",
   "nbconvert_exporter": "python",
   "pygments_lexer": "ipython3",
   "version": "3.9.7"
  }
 },
 "nbformat": 4,
 "nbformat_minor": 4
}
